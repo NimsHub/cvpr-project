{
 "cells": [
  {
   "cell_type": "code",
   "execution_count": 1,
   "metadata": {},
   "outputs": [],
   "source": [
    "import os\n",
    "import cv2\n",
    "import numpy as np"
   ]
  },
  {
   "cell_type": "code",
   "execution_count": 2,
   "metadata": {},
   "outputs": [
    {
     "name": "stderr",
     "output_type": "stream",
     "text": [
      "2023-05-01 09:22:27.534699: I tensorflow/tsl/cuda/cudart_stub.cc:28] Could not find cuda drivers on your machine, GPU will not be used.\n",
      "2023-05-01 09:22:27.647594: I tensorflow/tsl/cuda/cudart_stub.cc:28] Could not find cuda drivers on your machine, GPU will not be used.\n",
      "2023-05-01 09:22:27.648393: I tensorflow/core/platform/cpu_feature_guard.cc:182] This TensorFlow binary is optimized to use available CPU instructions in performance-critical operations.\n",
      "To enable the following instructions: AVX2 FMA, in other operations, rebuild TensorFlow with the appropriate compiler flags.\n",
      "2023-05-01 09:22:28.347441: W tensorflow/compiler/tf2tensorrt/utils/py_utils.cc:38] TF-TRT Warning: Could not find TensorRT\n"
     ]
    }
   ],
   "source": [
    "from keras.utils import to_categorical\n",
    "from keras.models import Sequential\n",
    "from keras.layers import Conv2D, MaxPooling2D\n",
    "from keras.layers import Activation, Flatten, Dense, Dropout\n",
    "from keras.callbacks import EarlyStopping\n",
    "from keras.preprocessing.image import ImageDataGenerator"
   ]
  },
  {
   "attachments": {},
   "cell_type": "markdown",
   "metadata": {},
   "source": [
    "Replicate results"
   ]
  },
  {
   "cell_type": "code",
   "execution_count": 3,
   "metadata": {},
   "outputs": [],
   "source": [
    "np.random.seed(42)\n",
    "\n",
    "ROOT_DIR = '../data/images'\n",
    "TRAIN_DIR = os.path.join(ROOT_DIR, 'train')\n",
    "TEST_DIR = os.path.join(ROOT_DIR, 'test')\n",
    "input_shape = (32, 32, 1)\n",
    "batch_size = 32\n",
    "epochs = 30"
   ]
  },
  {
   "attachments": {},
   "cell_type": "markdown",
   "metadata": {},
   "source": [
    "# Build and compile model"
   ]
  },
  {
   "cell_type": "code",
   "execution_count": 4,
   "metadata": {},
   "outputs": [
    {
     "name": "stderr",
     "output_type": "stream",
     "text": [
      "2023-05-01 09:25:45.955057: I tensorflow/compiler/xla/stream_executor/cuda/cuda_gpu_executor.cc:996] successful NUMA node read from SysFS had negative value (-1), but there must be at least one NUMA node, so returning NUMA node zero. See more at https://github.com/torvalds/linux/blob/v6.0/Documentation/ABI/testing/sysfs-bus-pci#L344-L355\n",
      "2023-05-01 09:25:45.955718: W tensorflow/core/common_runtime/gpu/gpu_device.cc:1956] Cannot dlopen some GPU libraries. Please make sure the missing libraries mentioned above are installed properly if you would like to use GPU. Follow the guide at https://www.tensorflow.org/install/gpu for how to download and setup the required libraries for your platform.\n",
      "Skipping registering GPU devices...\n"
     ]
    }
   ],
   "source": [
    "model = Sequential()\n",
    "model.add(Conv2D(64, (3, 3), input_shape=input_shape, padding='same'))\n",
    "model.add(Activation('relu'))\n",
    "model.add(MaxPooling2D(pool_size=(2, 2)))\n",
    "\n",
    "model.add(Conv2D(32, (3, 3), padding='same'))\n",
    "model.add(Activation('relu'))\n",
    "model.add(MaxPooling2D(pool_size=(2, 2)))\n",
    "model.add(Flatten())\n",
    "\n",
    "model.add(Dense(64))\n",
    "model.add(Activation('relu'))\n",
    "model.add(Dropout(0.4))\n",
    "\n",
    "model.add(Dense(3, activation='softmax'))\n",
    "model.summary()\n",
    "\n",
    "model.compile(loss='categorical_crossentropy',\n",
    "              optimizer='rmsprop',\n",
    "              metrics=['accuracy'])\n"
   ]
  },
  {
   "attachments": {},
   "cell_type": "markdown",
   "metadata": {},
   "source": [
    "# Load data"
   ]
  },
  {
   "cell_type": "code",
   "execution_count": 5,
   "metadata": {},
   "outputs": [],
   "source": [
    "def load_img(img_path):\n",
    "    img = cv2.imread(img_path, cv2.IMREAD_GRAYSCALE)\n",
    "    # Fit to input size\n",
    "    img = cv2.resize(img, (32, 32))\n",
    "    img = np.expand_dims(img, axis=-1)\n",
    "    return img.astype(np.float32)"
   ]
  },
  {
   "cell_type": "code",
   "execution_count": 6,
   "metadata": {},
   "outputs": [],
   "source": [
    "def one_hot_encode(labels):\n",
    "    mapper = {'blank': 0, 'nough': 1, 'circle': 2}\n",
    "    encoded = [mapper[label] for label in labels]\n",
    "    target = to_categorical(encoded)\n",
    "    return target"
   ]
  },
  {
   "cell_type": "code",
   "execution_count": 7,
   "metadata": {},
   "outputs": [],
   "source": [
    "def load_data(root_dir, shuffle=True):\n",
    "    X, y = [], []\n",
    "    for root, dirs, files in os.walk(root_dir):\n",
    "        for class_dir in dirs:\n",
    "            image_dir = os.path.join(root_dir, class_dir)\n",
    "            y.extend(np.tile(class_dir, len(os.listdir(image_dir))))\n",
    "            for img_fn in os.listdir(image_dir):\n",
    "                img = load_img(os.path.join(image_dir, img_fn))\n",
    "                X.append(img)\n",
    "    y = one_hot_encode(y)\n",
    "    if shuffle:\n",
    "        # Combine to maintain order\n",
    "        data = list(zip(X, y))\n",
    "        np.random.shuffle(data)\n",
    "        X, y = zip(*data)\n",
    "    return np.asarray(X), np.asarray(y)\n"
   ]
  },
  {
   "cell_type": "code",
   "execution_count": 8,
   "metadata": {},
   "outputs": [
    {
     "name": "stdout",
     "output_type": "stream",
     "text": [
      "Loading data...\n"
     ]
    },
    {
     "ename": "ValueError",
     "evalue": "zero-size array to reduction operation maximum which has no identity",
     "output_type": "error",
     "traceback": [
      "\u001b[0;31m---------------------------------------------------------------------------\u001b[0m",
      "\u001b[0;31mValueError\u001b[0m                                Traceback (most recent call last)",
      "Cell \u001b[0;32mIn[8], line 2\u001b[0m\n\u001b[1;32m      1\u001b[0m \u001b[39mprint\u001b[39m(\u001b[39m'\u001b[39m\u001b[39mLoading data...\u001b[39m\u001b[39m'\u001b[39m)\n\u001b[0;32m----> 2\u001b[0m X_train, y_train \u001b[39m=\u001b[39m load_data(TRAIN_DIR)\n\u001b[1;32m      3\u001b[0m X_test, y_test \u001b[39m=\u001b[39m load_data(TEST_DIR)\n\u001b[1;32m      4\u001b[0m \u001b[39mprint\u001b[39m(\u001b[39m'\u001b[39m\u001b[39m{}\u001b[39;00m\u001b[39m instances for training\u001b[39m\u001b[39m'\u001b[39m\u001b[39m.\u001b[39mformat(\u001b[39mlen\u001b[39m(X_train)))\n",
      "Cell \u001b[0;32mIn[7], line 10\u001b[0m, in \u001b[0;36mload_data\u001b[0;34m(root_dir, shuffle)\u001b[0m\n\u001b[1;32m      8\u001b[0m             img \u001b[39m=\u001b[39m load_img(os\u001b[39m.\u001b[39mpath\u001b[39m.\u001b[39mjoin(image_dir, img_fn))\n\u001b[1;32m      9\u001b[0m             X\u001b[39m.\u001b[39mappend(img)\n\u001b[0;32m---> 10\u001b[0m y \u001b[39m=\u001b[39m one_hot_encode(y)\n\u001b[1;32m     11\u001b[0m \u001b[39mif\u001b[39;00m shuffle:\n\u001b[1;32m     12\u001b[0m     \u001b[39m# Combine to maintain order\u001b[39;00m\n\u001b[1;32m     13\u001b[0m     data \u001b[39m=\u001b[39m \u001b[39mlist\u001b[39m(\u001b[39mzip\u001b[39m(X, y))\n",
      "Cell \u001b[0;32mIn[6], line 4\u001b[0m, in \u001b[0;36mone_hot_encode\u001b[0;34m(labels)\u001b[0m\n\u001b[1;32m      2\u001b[0m mapper \u001b[39m=\u001b[39m {\u001b[39m'\u001b[39m\u001b[39mblank\u001b[39m\u001b[39m'\u001b[39m: \u001b[39m0\u001b[39m, \u001b[39m'\u001b[39m\u001b[39mnough\u001b[39m\u001b[39m'\u001b[39m: \u001b[39m1\u001b[39m, \u001b[39m'\u001b[39m\u001b[39mcircle\u001b[39m\u001b[39m'\u001b[39m: \u001b[39m2\u001b[39m}\n\u001b[1;32m      3\u001b[0m encoded \u001b[39m=\u001b[39m [mapper[label] \u001b[39mfor\u001b[39;00m label \u001b[39min\u001b[39;00m labels]\n\u001b[0;32m----> 4\u001b[0m target \u001b[39m=\u001b[39m to_categorical(encoded)\n\u001b[1;32m      5\u001b[0m \u001b[39mreturn\u001b[39;00m target\n",
      "File \u001b[0;32m~/miniconda3/envs/tic-tac-toe/lib/python3.10/site-packages/keras/utils/np_utils.py:71\u001b[0m, in \u001b[0;36mto_categorical\u001b[0;34m(y, num_classes, dtype)\u001b[0m\n\u001b[1;32m     69\u001b[0m y \u001b[39m=\u001b[39m y\u001b[39m.\u001b[39mreshape(\u001b[39m-\u001b[39m\u001b[39m1\u001b[39m)\n\u001b[1;32m     70\u001b[0m \u001b[39mif\u001b[39;00m \u001b[39mnot\u001b[39;00m num_classes:\n\u001b[0;32m---> 71\u001b[0m     num_classes \u001b[39m=\u001b[39m np\u001b[39m.\u001b[39;49mmax(y) \u001b[39m+\u001b[39m \u001b[39m1\u001b[39m\n\u001b[1;32m     72\u001b[0m n \u001b[39m=\u001b[39m y\u001b[39m.\u001b[39mshape[\u001b[39m0\u001b[39m]\n\u001b[1;32m     73\u001b[0m categorical \u001b[39m=\u001b[39m np\u001b[39m.\u001b[39mzeros((n, num_classes), dtype\u001b[39m=\u001b[39mdtype)\n",
      "File \u001b[0;32m<__array_function__ internals>:180\u001b[0m, in \u001b[0;36mamax\u001b[0;34m(*args, **kwargs)\u001b[0m\n",
      "File \u001b[0;32m~/miniconda3/envs/tic-tac-toe/lib/python3.10/site-packages/numpy/core/fromnumeric.py:2793\u001b[0m, in \u001b[0;36mamax\u001b[0;34m(a, axis, out, keepdims, initial, where)\u001b[0m\n\u001b[1;32m   2677\u001b[0m \u001b[39m@array_function_dispatch\u001b[39m(_amax_dispatcher)\n\u001b[1;32m   2678\u001b[0m \u001b[39mdef\u001b[39;00m \u001b[39mamax\u001b[39m(a, axis\u001b[39m=\u001b[39m\u001b[39mNone\u001b[39;00m, out\u001b[39m=\u001b[39m\u001b[39mNone\u001b[39;00m, keepdims\u001b[39m=\u001b[39mnp\u001b[39m.\u001b[39m_NoValue, initial\u001b[39m=\u001b[39mnp\u001b[39m.\u001b[39m_NoValue,\n\u001b[1;32m   2679\u001b[0m          where\u001b[39m=\u001b[39mnp\u001b[39m.\u001b[39m_NoValue):\n\u001b[1;32m   2680\u001b[0m     \u001b[39m\"\"\"\u001b[39;00m\n\u001b[1;32m   2681\u001b[0m \u001b[39m    Return the maximum of an array or maximum along an axis.\u001b[39;00m\n\u001b[1;32m   2682\u001b[0m \n\u001b[0;32m   (...)\u001b[0m\n\u001b[1;32m   2791\u001b[0m \u001b[39m    5\u001b[39;00m\n\u001b[1;32m   2792\u001b[0m \u001b[39m    \"\"\"\u001b[39;00m\n\u001b[0;32m-> 2793\u001b[0m     \u001b[39mreturn\u001b[39;00m _wrapreduction(a, np\u001b[39m.\u001b[39;49mmaximum, \u001b[39m'\u001b[39;49m\u001b[39mmax\u001b[39;49m\u001b[39m'\u001b[39;49m, axis, \u001b[39mNone\u001b[39;49;00m, out,\n\u001b[1;32m   2794\u001b[0m                           keepdims\u001b[39m=\u001b[39;49mkeepdims, initial\u001b[39m=\u001b[39;49minitial, where\u001b[39m=\u001b[39;49mwhere)\n",
      "File \u001b[0;32m~/miniconda3/envs/tic-tac-toe/lib/python3.10/site-packages/numpy/core/fromnumeric.py:86\u001b[0m, in \u001b[0;36m_wrapreduction\u001b[0;34m(obj, ufunc, method, axis, dtype, out, **kwargs)\u001b[0m\n\u001b[1;32m     83\u001b[0m         \u001b[39melse\u001b[39;00m:\n\u001b[1;32m     84\u001b[0m             \u001b[39mreturn\u001b[39;00m reduction(axis\u001b[39m=\u001b[39maxis, out\u001b[39m=\u001b[39mout, \u001b[39m*\u001b[39m\u001b[39m*\u001b[39mpasskwargs)\n\u001b[0;32m---> 86\u001b[0m \u001b[39mreturn\u001b[39;00m ufunc\u001b[39m.\u001b[39;49mreduce(obj, axis, dtype, out, \u001b[39m*\u001b[39;49m\u001b[39m*\u001b[39;49mpasskwargs)\n",
      "\u001b[0;31mValueError\u001b[0m: zero-size array to reduction operation maximum which has no identity"
     ]
    }
   ],
   "source": [
    "print('Loading data...')\n",
    "X_train, y_train = load_data(TRAIN_DIR)\n",
    "X_test, y_test = load_data(TEST_DIR)\n",
    "print('{} instances for training'.format(len(X_train)))\n",
    "print('{} instances for evaluation'.format(len(X_test)))"
   ]
  },
  {
   "attachments": {},
   "cell_type": "markdown",
   "metadata": {},
   "source": [
    "# Create more instances since our dataset is VERY limited"
   ]
  },
  {
   "cell_type": "code",
   "execution_count": 9,
   "metadata": {},
   "outputs": [
    {
     "ename": "NameError",
     "evalue": "name 'X_train' is not defined",
     "output_type": "error",
     "traceback": [
      "\u001b[0;31m---------------------------------------------------------------------------\u001b[0m",
      "\u001b[0;31mNameError\u001b[0m                                 Traceback (most recent call last)",
      "Cell \u001b[0;32mIn[9], line 12\u001b[0m\n\u001b[1;32m      1\u001b[0m train_val_datagen \u001b[39m=\u001b[39m ImageDataGenerator(\n\u001b[1;32m      2\u001b[0m     featurewise_center\u001b[39m=\u001b[39m\u001b[39mTrue\u001b[39;00m,\n\u001b[1;32m      3\u001b[0m     featurewise_std_normalization\u001b[39m=\u001b[39m\u001b[39mTrue\u001b[39;00m,\n\u001b[0;32m   (...)\u001b[0m\n\u001b[1;32m      8\u001b[0m     rescale\u001b[39m=\u001b[39m\u001b[39m1\u001b[39m \u001b[39m/\u001b[39m \u001b[39m255\u001b[39m,\n\u001b[1;32m      9\u001b[0m     validation_split\u001b[39m=\u001b[39m\u001b[39m0.2\u001b[39m)\n\u001b[1;32m     11\u001b[0m train_generator \u001b[39m=\u001b[39m train_val_datagen\u001b[39m.\u001b[39mflow(\n\u001b[0;32m---> 12\u001b[0m     X_train, y_train, batch_size\u001b[39m=\u001b[39mbatch_size, subset\u001b[39m=\u001b[39m\u001b[39m'\u001b[39m\u001b[39mtraining\u001b[39m\u001b[39m'\u001b[39m)\n\u001b[1;32m     14\u001b[0m val_generator \u001b[39m=\u001b[39m train_val_datagen\u001b[39m.\u001b[39mflow(\n\u001b[1;32m     15\u001b[0m     X_train, y_train, batch_size\u001b[39m=\u001b[39mbatch_size, subset\u001b[39m=\u001b[39m\u001b[39m'\u001b[39m\u001b[39mvalidation\u001b[39m\u001b[39m'\u001b[39m)\n",
      "\u001b[0;31mNameError\u001b[0m: name 'X_train' is not defined"
     ]
    }
   ],
   "source": [
    "train_val_datagen = ImageDataGenerator(\n",
    "    featurewise_center=True,\n",
    "    featurewise_std_normalization=True,\n",
    "    rotation_range=90,\n",
    "    shear_range=0.2,\n",
    "    horizontal_flip=True,\n",
    "    vertical_flip=True,\n",
    "    rescale=1 / 255,\n",
    "    validation_split=0.2)\n",
    "\n",
    "train_generator = train_val_datagen.flow(\n",
    "    X_train, y_train, batch_size=batch_size, subset='training')\n",
    "\n",
    "val_generator = train_val_datagen.flow(\n",
    "    X_train, y_train, batch_size=batch_size, subset='validation')"
   ]
  },
  {
   "attachments": {},
   "cell_type": "markdown",
   "metadata": {},
   "source": [
    "# Train and evaluate"
   ]
  },
  {
   "cell_type": "code",
   "execution_count": 10,
   "metadata": {},
   "outputs": [
    {
     "name": "stdout",
     "output_type": "stream",
     "text": [
      "Training model...\n"
     ]
    },
    {
     "ename": "NameError",
     "evalue": "name 'train_generator' is not defined",
     "output_type": "error",
     "traceback": [
      "\u001b[0;31m---------------------------------------------------------------------------\u001b[0m",
      "\u001b[0;31mNameError\u001b[0m                                 Traceback (most recent call last)",
      "Cell \u001b[0;32mIn[10], line 6\u001b[0m\n\u001b[1;32m      1\u001b[0m callbacks \u001b[39m=\u001b[39m [\n\u001b[1;32m      2\u001b[0m     EarlyStopping(patience\u001b[39m=\u001b[39m\u001b[39m5\u001b[39m, verbose\u001b[39m=\u001b[39m\u001b[39m1\u001b[39m, restore_best_weights\u001b[39m=\u001b[39m\u001b[39mTrue\u001b[39;00m)]\n\u001b[1;32m      4\u001b[0m \u001b[39mprint\u001b[39m(\u001b[39m'\u001b[39m\u001b[39mTraining model...\u001b[39m\u001b[39m'\u001b[39m)\n\u001b[1;32m      5\u001b[0m history \u001b[39m=\u001b[39m model\u001b[39m.\u001b[39mfit_generator(\n\u001b[0;32m----> 6\u001b[0m     train_generator,\n\u001b[1;32m      7\u001b[0m     steps_per_epoch\u001b[39m=\u001b[39m\u001b[39m128\u001b[39m,\n\u001b[1;32m      8\u001b[0m     epochs\u001b[39m=\u001b[39mepochs,\n\u001b[1;32m      9\u001b[0m     validation_data\u001b[39m=\u001b[39mval_generator,\n\u001b[1;32m     10\u001b[0m     validation_steps\u001b[39m=\u001b[39m\u001b[39m32\u001b[39m,\n\u001b[1;32m     11\u001b[0m     callbacks\u001b[39m=\u001b[39mcallbacks)\n\u001b[1;32m     13\u001b[0m \u001b[39mprint\u001b[39m(\u001b[39m'\u001b[39m\u001b[39mEvaluating model...\u001b[39m\u001b[39m'\u001b[39m)\n",
      "\u001b[0;31mNameError\u001b[0m: name 'train_generator' is not defined"
     ]
    }
   ],
   "source": [
    "callbacks = [\n",
    "    EarlyStopping(patience=5, verbose=1, restore_best_weights=True)]\n",
    "\n",
    "print('Training model...')\n",
    "history = model.fit_generator(\n",
    "    train_generator,\n",
    "    steps_per_epoch=128,\n",
    "    epochs=epochs,\n",
    "    validation_data=val_generator,\n",
    "    validation_steps=32,\n",
    "    callbacks=callbacks)\n",
    "\n",
    "print('Evaluating model...')"
   ]
  },
  {
   "attachments": {},
   "cell_type": "markdown",
   "metadata": {},
   "source": [
    "# Load data"
   ]
  },
  {
   "cell_type": "code",
   "execution_count": 11,
   "metadata": {},
   "outputs": [
    {
     "ename": "NameError",
     "evalue": "name 'X_test' is not defined",
     "output_type": "error",
     "traceback": [
      "\u001b[0;31m---------------------------------------------------------------------------\u001b[0m",
      "\u001b[0;31mNameError\u001b[0m                                 Traceback (most recent call last)",
      "Cell \u001b[0;32mIn[11], line 2\u001b[0m\n\u001b[1;32m      1\u001b[0m test_datagen \u001b[39m=\u001b[39m ImageDataGenerator(rescale\u001b[39m=\u001b[39m\u001b[39m1\u001b[39m \u001b[39m/\u001b[39m \u001b[39m255\u001b[39m)\n\u001b[0;32m----> 2\u001b[0m X_test, y_test \u001b[39m=\u001b[39m \u001b[39mnext\u001b[39m(test_datagen\u001b[39m.\u001b[39mflow(X_test, y_test, batch_size\u001b[39m=\u001b[39m\u001b[39mlen\u001b[39m(X_test)))\n\u001b[1;32m      4\u001b[0m loss, acc \u001b[39m=\u001b[39m model\u001b[39m.\u001b[39mevaluate(X_test, y_test, batch_size\u001b[39m=\u001b[39mbatch_size)\n\u001b[1;32m      5\u001b[0m \u001b[39mprint\u001b[39m(\u001b[39m'\u001b[39m\u001b[39mCrossentropy loss: \u001b[39m\u001b[39m{:0.3f}\u001b[39;00m\u001b[39m'\u001b[39m\u001b[39m.\u001b[39mformat(loss))\n",
      "\u001b[0;31mNameError\u001b[0m: name 'X_test' is not defined"
     ]
    }
   ],
   "source": [
    "test_datagen = ImageDataGenerator(rescale=1 / 255)\n",
    "X_test, y_test = next(test_datagen.flow(X_test, y_test, batch_size=len(X_test)))\n",
    "\n",
    "loss, acc = model.evaluate(X_test, y_test, batch_size=batch_size)\n",
    "print('Crossentropy loss: {:0.3f}'.format(loss))\n",
    "print('Accuracy: {:0.3f}'.format(acc))"
   ]
  },
  {
   "attachments": {},
   "cell_type": "markdown",
   "metadata": {},
   "source": [
    "# Save model"
   ]
  },
  {
   "cell_type": "code",
   "execution_count": null,
   "metadata": {},
   "outputs": [],
   "source": [
    "model.save('../data/model.h5')\n",
    "print('Saved model to disk')\n"
   ]
  }
 ],
 "metadata": {
  "kernelspec": {
   "display_name": "tic-tac-toe",
   "language": "python",
   "name": "python3"
  },
  "language_info": {
   "codemirror_mode": {
    "name": "ipython",
    "version": 3
   },
   "file_extension": ".py",
   "mimetype": "text/x-python",
   "name": "python",
   "nbconvert_exporter": "python",
   "pygments_lexer": "ipython3",
   "version": "3.10.10"
  },
  "orig_nbformat": 4
 },
 "nbformat": 4,
 "nbformat_minor": 2
}
